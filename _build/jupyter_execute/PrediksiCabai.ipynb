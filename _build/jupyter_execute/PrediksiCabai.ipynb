{
 "cells": [
  {
   "cell_type": "markdown",
   "metadata": {},
   "source": [
    "## Business Understanding\n"
   ]
  },
  {
   "cell_type": "markdown",
   "metadata": {},
   "source": [
    "### Tujuan Proyek  \n",
    "\n",
    "Masalah yang ingin diselesaikan:  \n",
    "Fluktuasi harga cabai sering kali memengaruhi pelaku pasar, seperti petani, pedagang, atau konsumen. Prediksi harga cabai dapat membantu dalam pengambilan keputusan, seperti kapan waktu terbaik untuk menjual atau membeli.  \n",
    "\n",
    "Tujuan utama:  \n",
    "Mengembangkan model prediksi harga cabai berdasarkan tren harga sebelumnya.  \n",
    "\n",
    "### Manfaat Bisnis  \n",
    "\n",
    "1. Bagi Petani: \n",
    "   \n",
    "    Perencanaan Panen dan Penjualan:  \n",
    "    Petani dapat menjual hasil panen pada saat harga diperkirakan tinggi, sehingga meningkatkan pendapatan.  \n",
    "    Menghindari penjualan saat harga diprediksi rendah.  \n",
    "  \n",
    "    Optimasi Penyimpanan:  \n",
    "    Dengan prediksi, petani dapat memutuskan apakah perlu menyimpan cabai di gudang atau langsung menjualnya.  \n",
    "  \n",
    "    Perencanaan Produksi:  \n",
    "    Petani dapat menyesuaikan jadwal tanam atau jenis cabai yang ditanam berdasarkan tren permintaan.  \n",
    "\n",
    "2. Bagi Pedagang:  \n",
    "\n",
    "    Manajemen Stok:  \n",
    "    Pedagang dapat menentukan jumlah cabai yang harus dibeli atau disimpan untuk menghindari kelebihan stok saat harga turun.  \n",
    "    Mengantisipasi kekurangan stok saat harga naik. \n",
    "       \n",
    "    Strategi Penjualan:  \n",
    "    Menentukan waktu terbaik untuk membeli dari petani dan menjual ke konsumen.  \n",
    "      \n",
    "    Menghindari Kerugian:  \n",
    "    Prediksi harga membantu pedagang menghindari kerugian akibat fluktuasi harga yang tajam.  \n",
    "\n",
    "3. Bagi Pembeli (Konsumen):  \n",
    "\n",
    "    Efisiensi Belanja:  \n",
    "    Konsumen dapat membeli cabai dalam jumlah lebih banyak sebelum harga naik atau mengurangi pembelian saat harga tinggi.  \n",
    "    \n",
    "    Perencanaan Anggaran:  \n",
    "    Membantu konsumen mengatur anggaran belanja bahan makanan berdasarkan harga cabai yang diprediksi.  \n",
    "    \n",
    "    Pilihan Alternatif:  \n",
    "    Jika harga cabai tinggi, konsumen dapat mencari bahan substitusi atau mengurangi konsumsi.\n",
    "\n",
    "4. Bagi Pemerintah:  \n",
    "\n",
    "    Pengendalian Inflasi:  \n",
    "    Harga cabai sering menjadi komoditas yang memengaruhi inflasi. Prediksi harga dapat membantu pemerintah mengambil langkah pencegahan terhadap fluktuasi yang ekstrem.  \n",
    "      \n",
    "    Kebijakan Subsidi:  \n",
    "    Membantu pemerintah menentukan kapan memberikan subsidi kepada petani atau konsumen untuk menjaga stabilitas harga.  \n",
    "\n",
    "    Manajemen Pasokan:  \n",
    "    Prediksi harga dapat digunakan untuk merencanakan distribusi logistik cabai antar daerah agar stok merata.  \n",
    "\n",
    "    Informasi Publik:  \n",
    "    Pemerintah dapat menggunakan prediksi harga untuk memberikan informasi kepada masyarakat, sehingga mengurangi kepanikan akibat kenaikan harga mendadak.\n",
    "\n",
    "### KPI (Key Performance Indicators)\n",
    "\n",
    "Akurasi Model:   \n",
    "Evaluasi menggunakan metrik RMSE (Root Mean Squared Error).  \n",
    "Evaluasi menggunakan metrik MAPE (Mean Absolute Percentage Error)."
   ]
  },
  {
   "cell_type": "markdown",
   "metadata": {},
   "source": [
    "## Data Understanding"
   ]
  },
  {
   "cell_type": "markdown",
   "metadata": {},
   "source": [
    "### Deskripsi Data\n",
    "\n",
    "Kolom tanggal:  \n",
    "Tipe data: Datetime  \n",
    "Deskripsi: Menunjukkan tanggal harga cabai tercatat.\n",
    "\n",
    "Kolom harga:  \n",
    "Tipe data: Numerik  \n",
    "Deskripsi: Harga cabai pada hari tertentu (biasanya per kilogram dalam Rupiah)."
   ]
  },
  {
   "cell_type": "markdown",
   "metadata": {},
   "source": []
  }
 ],
 "metadata": {
  "language_info": {
   "codemirror_mode": {
    "name": "ipython",
    "version": 3
   },
   "file_extension": ".py",
   "mimetype": "text/x-python",
   "name": "python",
   "nbconvert_exporter": "python",
   "pygments_lexer": "ipython3",
   "version": "3.12.5"
  }
 },
 "nbformat": 4,
 "nbformat_minor": 2
}