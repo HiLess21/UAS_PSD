{
 "cells": [
  {
   "cell_type": "markdown",
   "metadata": {},
   "source": [
    "# Klasifikasi Penyakit Kulit Dengan Metode Gaussian Naive Bayes"
   ]
  },
  {
   "cell_type": "markdown",
   "metadata": {},
   "source": [
    "## Business Understanding"
   ]
  },
  {
   "cell_type": "markdown",
   "metadata": {},
   "source": [
    "### Tujuan Proyek"
   ]
  },
  {
   "cell_type": "markdown",
   "metadata": {},
   "source": [
    "Masalah yang ingin dipecahkan:  \n",
    "Diagnosis penyakit kulit sering kali membutuhkan keahlian medis dan waktu yang tidak sedikit. Dengan menggunakan model klasifikasi berbasis gambar, proses ini dapat dipercepat dan akurasi dapat ditingkatkan."
   ]
  },
  {
   "cell_type": "markdown",
   "metadata": {},
   "source": [
    "Tujuan Utama:  \n",
    "Mengembangkan model klasifikasi otomatis untuk mendeteksi jenis penyakit kulit berdasarkan gambar.  \n",
    "Meningkatkan efisiensi diagnosis untuk dokter dan tenaga medis."
   ]
  },
  {
   "cell_type": "markdown",
   "metadata": {},
   "source": [
    "### Manfaat Bisnis"
   ]
  },
  {
   "cell_type": "markdown",
   "metadata": {},
   "source": [
    "1. Bagi Tenaga Medis (Dokter/Spesialis):  \n",
    "Mempercepat proses diagnosis dengan memberikan second opinion berbasis model otomatis.  \n",
    "Membantu dokter mengidentifikasi penyakit dengan lebih konsisten, terutama dalam kasus yang sulit.  \n",
    "Mengurangi beban kerja dokter pada fasilitas kesehatan dengan pasien yang banyak."
   ]
  },
  {
   "cell_type": "markdown",
   "metadata": {},
   "source": [
    "2. Bagi Pasien:  \n",
    "Meningkatkan akses ke diagnosis awal, terutama bagi pasien di daerah terpencil tanpa spesialis kulit.  \n",
    "Membantu pasien memahami kondisi kulit mereka sebelum berkonsultasi langsung dengan dokter."
   ]
  },
  {
   "cell_type": "markdown",
   "metadata": {},
   "source": [
    "3. Bagi Institusi Kesehatan:  \n",
    "Mengurangi waktu tunggu diagnosis di klinik dan rumah sakit.  \n",
    "Membantu dalam program pencegahan dan edukasi kesehatan dengan menggunakan teknologi.\n"
   ]
  },
  {
   "cell_type": "markdown",
   "metadata": {},
   "source": [
    "4. Bagi Peneliti atau Industri Teknologi:  \n",
    "Memberikan dataset dan model yang dapat diadaptasi untuk berbagai penyakit kulit di masa depan.  \n",
    "Memajukan penggunaan teknologi AI dalam bidang kesehatan.  \n"
   ]
  },
  {
   "cell_type": "markdown",
   "metadata": {},
   "source": [
    "### KPI (Key Performance Indicators)"
   ]
  },
  {
   "cell_type": "markdown",
   "metadata": {},
   "source": [
    "Akurasi Model: Berapa persentase diagnosis yang benar oleh model.  \n",
    "Precision dan Recall: Kinerja untuk masing-masing kelas penyakit.   \n",
    "Fleksibilitas Model: Kemampuan model menangani gambar dari berbagai kualitas atau sumber."
   ]
  },
  {
   "cell_type": "markdown",
   "metadata": {},
   "source": [
    "## Data Understanding"
   ]
  },
  {
   "cell_type": "markdown",
   "metadata": {},
   "source": [
    "### Deskripsi Dataset"
   ]
  },
  {
   "cell_type": "markdown",
   "metadata": {},
   "source": [
    "Kolom id_image:  \n",
    "Tipe data: String atau file path.  \n",
    "Deskripsi: Nama atau lokasi file gambar pada dataset."
   ]
  },
  {
   "cell_type": "markdown",
   "metadata": {},
   "source": [
    "Kolom dx:  \n",
    "Tipe data: Kategorikal.  \n",
    "Deskripsi: Label penyakit kulit berdasarkan diagnosis medis."
   ]
  },
  {
   "cell_type": "markdown",
   "metadata": {},
   "source": [
    "## Data Preparation"
   ]
  },
  {
   "cell_type": "markdown",
   "metadata": {},
   "source": [
    "### Load Data"
   ]
  },
  {
   "cell_type": "code",
   "execution_count": 1,
   "metadata": {},
   "outputs": [
    {
     "data": {
      "text/html": [
       "<div>\n",
       "<style scoped>\n",
       "    .dataframe tbody tr th:only-of-type {\n",
       "        vertical-align: middle;\n",
       "    }\n",
       "\n",
       "    .dataframe tbody tr th {\n",
       "        vertical-align: top;\n",
       "    }\n",
       "\n",
       "    .dataframe thead th {\n",
       "        text-align: right;\n",
       "    }\n",
       "</style>\n",
       "<table border=\"1\" class=\"dataframe\">\n",
       "  <thead>\n",
       "    <tr style=\"text-align: right;\">\n",
       "      <th></th>\n",
       "      <th>image_id</th>\n",
       "      <th>dx</th>\n",
       "    </tr>\n",
       "  </thead>\n",
       "  <tbody>\n",
       "    <tr>\n",
       "      <th>0</th>\n",
       "      <td>ISIC_0027419</td>\n",
       "      <td>bkl</td>\n",
       "    </tr>\n",
       "    <tr>\n",
       "      <th>1</th>\n",
       "      <td>ISIC_0025030</td>\n",
       "      <td>bkl</td>\n",
       "    </tr>\n",
       "    <tr>\n",
       "      <th>2</th>\n",
       "      <td>ISIC_0026769</td>\n",
       "      <td>bkl</td>\n",
       "    </tr>\n",
       "    <tr>\n",
       "      <th>3</th>\n",
       "      <td>ISIC_0025661</td>\n",
       "      <td>bkl</td>\n",
       "    </tr>\n",
       "    <tr>\n",
       "      <th>4</th>\n",
       "      <td>ISIC_0031633</td>\n",
       "      <td>bkl</td>\n",
       "    </tr>\n",
       "    <tr>\n",
       "      <th>...</th>\n",
       "      <td>...</td>\n",
       "      <td>...</td>\n",
       "    </tr>\n",
       "    <tr>\n",
       "      <th>10010</th>\n",
       "      <td>ISIC_0033084</td>\n",
       "      <td>akiec</td>\n",
       "    </tr>\n",
       "    <tr>\n",
       "      <th>10011</th>\n",
       "      <td>ISIC_0033550</td>\n",
       "      <td>akiec</td>\n",
       "    </tr>\n",
       "    <tr>\n",
       "      <th>10012</th>\n",
       "      <td>ISIC_0033536</td>\n",
       "      <td>akiec</td>\n",
       "    </tr>\n",
       "    <tr>\n",
       "      <th>10013</th>\n",
       "      <td>ISIC_0032854</td>\n",
       "      <td>akiec</td>\n",
       "    </tr>\n",
       "    <tr>\n",
       "      <th>10014</th>\n",
       "      <td>ISIC_0032258</td>\n",
       "      <td>mel</td>\n",
       "    </tr>\n",
       "  </tbody>\n",
       "</table>\n",
       "<p>10015 rows × 2 columns</p>\n",
       "</div>"
      ],
      "text/plain": [
       "           image_id     dx\n",
       "0      ISIC_0027419    bkl\n",
       "1      ISIC_0025030    bkl\n",
       "2      ISIC_0026769    bkl\n",
       "3      ISIC_0025661    bkl\n",
       "4      ISIC_0031633    bkl\n",
       "...             ...    ...\n",
       "10010  ISIC_0033084  akiec\n",
       "10011  ISIC_0033550  akiec\n",
       "10012  ISIC_0033536  akiec\n",
       "10013  ISIC_0032854  akiec\n",
       "10014  ISIC_0032258    mel\n",
       "\n",
       "[10015 rows x 2 columns]"
      ]
     },
     "execution_count": 1,
     "metadata": {},
     "output_type": "execute_result"
    }
   ],
   "source": [
    "import pandas as pd\n",
    "\n",
    "# Membaca DataSet\n",
    "Data = pd.read_csv(\"C:/SEMESTER 5/BIGDATA/bigdata/Klasifikasi GNB/HAM10000_metadata.csv\")\n",
    "Data = Data.drop(columns=['lesion_id', 'dx_type', 'age','sex','localization'])\n",
    "Data\n"
   ]
  },
  {
   "cell_type": "code",
   "execution_count": 2,
   "metadata": {},
   "outputs": [
    {
     "data": {
      "text/plain": [
       "(10015, 2)"
      ]
     },
     "execution_count": 2,
     "metadata": {},
     "output_type": "execute_result"
    }
   ],
   "source": [
    "Data.shape"
   ]
  },
  {
   "cell_type": "markdown",
   "metadata": {},
   "source": [
    "Dataset terdiri dari 10015 data dan 2 kolom yaitu :\n",
    "- Image_id = Gambar lesi\n",
    "- Dx = Diagnosis dari image_id"
   ]
  },
  {
   "cell_type": "markdown",
   "metadata": {},
   "source": [
    "### Visualisasi Data"
   ]
  },
  {
   "cell_type": "code",
   "execution_count": 3,
   "metadata": {},
   "outputs": [
    {
     "data": {
      "image/png": "[encoded data removed]",
      "text/plain": [
       "<Figure size 640x480 with 1 Axes>"
      ]
     },
     "metadata": {},
     "output_type": "display_data"
    }
   ],
   "source": [
    "import matplotlib.pyplot as plt\n",
    "\n",
    "# membuat grafik batang\n",
    "Data['dx'].value_counts().plot.bar(rot=0)\n",
    "plt.title('Jumlah diagnosis berdasarkan diagnosis ')\n",
    "plt.xlabel('Diagnosis')\n",
    "plt.ylabel('Jumlah')\n",
    "plt.grid(axis='y')"
   ]
  },
  {
   "cell_type": "code",
   "execution_count": 4,
   "metadata": {},
   "outputs": [
    {
     "name": "stdout",
     "output_type": "stream",
     "text": [
      "Kelas dx: ['bkl' 'nv' 'df' 'mel' 'vasc' 'bcc' 'akiec']\n",
      "Jumlah kelas: 7\n"
     ]
    }
   ],
   "source": [
    "# Mengetahui kelas unik\n",
    "Class_dx = Data['dx'].unique()\n",
    "Jumlah_classes = len(Class_dx)\n",
    "\n",
    "print(f\"Kelas dx: {Class_dx}\")\n",
    "print(f\"Jumlah kelas: {Jumlah_classes}\")"
   ]
  },
  {
   "cell_type": "code",
   "execution_count": 5,
   "metadata": {},
   "outputs": [
    {
     "data": {
      "text/plain": [
       "dx\n",
       "nv       6705\n",
       "mel      1113\n",
       "bkl      1099\n",
       "bcc       514\n",
       "akiec     327\n",
       "vasc      142\n",
       "df        115\n",
       "Name: count, dtype: int64"
      ]
     },
     "execution_count": 5,
     "metadata": {},
     "output_type": "execute_result"
    }
   ],
   "source": [
    "jumlah = Data['dx'].value_counts()\n",
    "jumlah"
   ]
  },
  {
   "cell_type": "markdown",
   "metadata": {},
   "source": [
    "Terdapat 7 class pada dx yaitu ['bkl' 'nv' 'df' 'mel' 'vasc' 'bcc' 'akiec']\n",
    "- **bkl** (Benign Keratosis Like Lesion) -> Lesi ini terlihat mirip dengan keratosis, biasanya merupakan lesi jinak yang dapat muncul sebagai bercak-bercak yang bersisik.\n",
    "- **nv** (Nevus) -> tahi lalat berwarna coklat atau hitam\n",
    "- **df** (Dermatofibroma) -> tumor jinak yang terbentuk dari sel-sel fibrosa dan sering muncul sebagai benjolan kecil di kulit.\n",
    "- **mel** (Melanoma) -> jenis kanker kulit yang paling serius, yang berkembang dari sel-sel penghasil pigmen (melanosit).\n",
    "- **vasc** (Vascular Lesions) -> Lesi ini berkaitan dengan pembuluh darah dan dapat termasuk kondisi seperti hemangioma (benjolan berwarna merah) atau telangiektasia (pembuluh darah yang melebar).\n",
    "- **bcc** (Basal Cell Carcinoma) -> Ini adalah jenis kanker kulit yang paling umum dan berasal dari sel-sel basal di lapisan epidermis.\n",
    "- **akiec** (Actinic Keratosis) -> lesi yang muncul pada kulit yang terpapar sinar matahari dan dapat berisiko berkembang menjadi kanker kulit. "
   ]
  },
  {
   "cell_type": "markdown",
   "metadata": {},
   "source": [
    "## Data Preprocessing"
   ]
  },
  {
   "cell_type": "markdown",
   "metadata": {},
   "source": [
    "### Mencari Missing Value"
   ]
  },
  {
   "cell_type": "code",
   "execution_count": 6,
   "metadata": {},
   "outputs": [
    {
     "name": "stdout",
     "output_type": "stream",
     "text": [
      "Jumlah misssing value setiap kolom:\n",
      "image_id    0\n",
      "dx          0\n",
      "dtype: int64\n"
     ]
    }
   ],
   "source": [
    "import pandas as pd\n",
    "\n",
    "# Memeriksa missing value\n",
    "missing_values = Data.isnull().sum()\n",
    "\n",
    "print(\"Jumlah misssing value setiap kolom:\")\n",
    "print(missing_values)"
   ]
  },
  {
   "cell_type": "markdown",
   "metadata": {},
   "source": [
    "### Mengecek Data Duplikat"
   ]
  },
  {
   "cell_type": "code",
   "execution_count": 7,
   "metadata": {},
   "outputs": [
    {
     "name": "stdout",
     "output_type": "stream",
     "text": [
      "Jumlah data duplikat : 0\n"
     ]
    }
   ],
   "source": [
    "# data duplikat berdasarkan 'lesion_id'\n",
    "duplikat_lesion = Data.duplicated(subset='image_id')\n",
    "jumlah_duplikat_lesion = duplikat_lesion.sum()\n",
    "print(f\"Jumlah data duplikat : {jumlah_duplikat_lesion}\")"
   ]
  },
  {
   "cell_type": "markdown",
   "metadata": {},
   "source": [
    "### Resize Data"
   ]
  },
  {
   "cell_type": "code",
   "execution_count": 8,
   "metadata": {},
   "outputs": [
    {
     "name": "stdout",
     "output_type": "stream",
     "text": [
      "Semua gambar memiliki ukuran yang sama: (600, 450)\n"
     ]
    }
   ],
   "source": [
    "import os\n",
    "from PIL import Image\n",
    "\n",
    "# Menentukan direktori tempat gambar berada\n",
    "directories = [os.path.join(\"C:/SEMESTER 5/BIGDATA/bigdata/Klasifikasi GNB/HAM10000_images_part_1\"),\n",
    "               os.path.join(\"C:/SEMESTER 5/BIGDATA/bigdata/Klasifikasi GNB/HAM10000_images_part_2\")]\n",
    "\n",
    "# Mendapatkan ukuran gambar pertama sebagai ukuran referensi\n",
    "reference_size = None\n",
    "all_same_size = True\n",
    "\n",
    "# Iterasi melalui semua direktori\n",
    "for directory in directories:\n",
    "    # Iterasi melalui semua file di direktori\n",
    "    for filename in os.listdir(directory):\n",
    "        if filename.endswith(('.png', '.jpg', '.jpeg')):  # Memeriksa format gambar\n",
    "            img_path = os.path.join(directory, filename)\n",
    "            img = Image.open(img_path)\n",
    "            \n",
    "            if reference_size is None:\n",
    "                reference_size = img.size\n",
    "                \n",
    "            if img.size != reference_size:\n",
    "                all_same_size = False\n",
    "                print(f\"Gambar {filename} di {directory} tidak memiliki ukuran yang sama: {img.size}\")\n",
    "\n",
    "if all_same_size:\n",
    "    print(\"Semua gambar memiliki ukuran yang sama:\", reference_size)\n",
    "else:\n",
    "    print(\"Tidak semua gambar memiliki ukuran yang sama.\")"
   ]
  },
  {
   "cell_type": "markdown",
   "metadata": {},
   "source": [
    "## Data Processing"
   ]
  },
  {
   "cell_type": "markdown",
   "metadata": {},
   "source": [
    "### Normalisasi Data"
   ]
  },
  {
   "cell_type": "code",
   "execution_count": 9,
   "metadata": {},
   "outputs": [
    {
     "ename": "KeyboardInterrupt",
     "evalue": "",
     "output_type": "error",
     "traceback": [
      "\u001b[1;31m---------------------------------------------------------------------------\u001b[0m",
      "\u001b[1;31mKeyboardInterrupt\u001b[0m                         Traceback (most recent call last)",
      "Cell \u001b[1;32mIn[9], line 18\u001b[0m\n\u001b[0;32m     15\u001b[0m img \u001b[38;5;241m=\u001b[39m Image\u001b[38;5;241m.\u001b[39mopen(img_path)\n\u001b[0;32m     17\u001b[0m \u001b[38;5;66;03m# Normalisasi gambar\u001b[39;00m\n\u001b[1;32m---> 18\u001b[0m normalized_img \u001b[38;5;241m=\u001b[39m \u001b[43mnormalize_image\u001b[49m\u001b[43m(\u001b[49m\u001b[43mimg\u001b[49m\u001b[43m)\u001b[49m\n",
      "Cell \u001b[1;32mIn[9], line 5\u001b[0m, in \u001b[0;36mnormalize_image\u001b[1;34m(image)\u001b[0m\n\u001b[0;32m      3\u001b[0m \u001b[38;5;28;01mdef\u001b[39;00m \u001b[38;5;21mnormalize_image\u001b[39m(image):\n\u001b[0;32m      4\u001b[0m     \u001b[38;5;66;03m# Mengubah gambar ke array NumPy\u001b[39;00m\n\u001b[1;32m----> 5\u001b[0m     img_array \u001b[38;5;241m=\u001b[39m \u001b[43mnp\u001b[49m\u001b[38;5;241;43m.\u001b[39;49m\u001b[43marray\u001b[49m\u001b[43m(\u001b[49m\u001b[43mimage\u001b[49m\u001b[43m)\u001b[49m\u001b[38;5;241m.\u001b[39mastype(\u001b[38;5;124m'\u001b[39m\u001b[38;5;124mfloat32\u001b[39m\u001b[38;5;124m'\u001b[39m)\n\u001b[0;32m      6\u001b[0m     \u001b[38;5;66;03m# Normalisasi piksel ke rentang 0 hingga 1\u001b[39;00m\n\u001b[0;32m      7\u001b[0m     normalized_img \u001b[38;5;241m=\u001b[39m img_array \u001b[38;5;241m/\u001b[39m \u001b[38;5;241m255.0\u001b[39m\n",
      "File \u001b[1;32m~\\AppData\\Local\\Programs\\Python\\Python312\\Lib\\site-packages\\PIL\\Image.py:756\u001b[0m, in \u001b[0;36mImage.__array_interface__\u001b[1;34m(self)\u001b[0m\n\u001b[0;32m    754\u001b[0m     new[\u001b[38;5;124m\"\u001b[39m\u001b[38;5;124mdata\u001b[39m\u001b[38;5;124m\"\u001b[39m] \u001b[38;5;241m=\u001b[39m \u001b[38;5;28mself\u001b[39m\u001b[38;5;241m.\u001b[39mtobytes(\u001b[38;5;124m\"\u001b[39m\u001b[38;5;124mraw\u001b[39m\u001b[38;5;124m\"\u001b[39m, \u001b[38;5;124m\"\u001b[39m\u001b[38;5;124mL\u001b[39m\u001b[38;5;124m\"\u001b[39m)\n\u001b[0;32m    755\u001b[0m \u001b[38;5;28;01melse\u001b[39;00m:\n\u001b[1;32m--> 756\u001b[0m     new[\u001b[38;5;124m\"\u001b[39m\u001b[38;5;124mdata\u001b[39m\u001b[38;5;124m\"\u001b[39m] \u001b[38;5;241m=\u001b[39m \u001b[38;5;28;43mself\u001b[39;49m\u001b[38;5;241;43m.\u001b[39;49m\u001b[43mtobytes\u001b[49m\u001b[43m(\u001b[49m\u001b[43m)\u001b[49m\n\u001b[0;32m    757\u001b[0m new[\u001b[38;5;124m\"\u001b[39m\u001b[38;5;124mshape\u001b[39m\u001b[38;5;124m\"\u001b[39m], new[\u001b[38;5;124m\"\u001b[39m\u001b[38;5;124mtypestr\u001b[39m\u001b[38;5;124m\"\u001b[39m] \u001b[38;5;241m=\u001b[39m _conv_type_shape(\u001b[38;5;28mself\u001b[39m)\n\u001b[0;32m    758\u001b[0m \u001b[38;5;28;01mreturn\u001b[39;00m new\n",
      "File \u001b[1;32m~\\AppData\\Local\\Programs\\Python\\Python312\\Lib\\site-packages\\PIL\\Image.py:805\u001b[0m, in \u001b[0;36mImage.tobytes\u001b[1;34m(self, encoder_name, *args)\u001b[0m\n\u001b[0;32m    802\u001b[0m \u001b[38;5;28;01mif\u001b[39;00m encoder_name \u001b[38;5;241m==\u001b[39m \u001b[38;5;124m\"\u001b[39m\u001b[38;5;124mraw\u001b[39m\u001b[38;5;124m\"\u001b[39m \u001b[38;5;129;01mand\u001b[39;00m encoder_args \u001b[38;5;241m==\u001b[39m ():\n\u001b[0;32m    803\u001b[0m     encoder_args \u001b[38;5;241m=\u001b[39m \u001b[38;5;28mself\u001b[39m\u001b[38;5;241m.\u001b[39mmode\n\u001b[1;32m--> 805\u001b[0m \u001b[38;5;28;43mself\u001b[39;49m\u001b[38;5;241;43m.\u001b[39;49m\u001b[43mload\u001b[49m\u001b[43m(\u001b[49m\u001b[43m)\u001b[49m\n\u001b[0;32m    807\u001b[0m \u001b[38;5;28;01mif\u001b[39;00m \u001b[38;5;28mself\u001b[39m\u001b[38;5;241m.\u001b[39mwidth \u001b[38;5;241m==\u001b[39m \u001b[38;5;241m0\u001b[39m \u001b[38;5;129;01mor\u001b[39;00m \u001b[38;5;28mself\u001b[39m\u001b[38;5;241m.\u001b[39mheight \u001b[38;5;241m==\u001b[39m \u001b[38;5;241m0\u001b[39m:\n\u001b[0;32m    808\u001b[0m     \u001b[38;5;28;01mreturn\u001b[39;00m \u001b[38;5;124mb\u001b[39m\u001b[38;5;124m\"\u001b[39m\u001b[38;5;124m\"\u001b[39m\n",
      "File \u001b[1;32m~\\AppData\\Local\\Programs\\Python\\Python312\\Lib\\site-packages\\PIL\\ImageFile.py:300\u001b[0m, in \u001b[0;36mImageFile.load\u001b[1;34m(self)\u001b[0m\n\u001b[0;32m    297\u001b[0m         \u001b[38;5;28;01mraise\u001b[39;00m \u001b[38;5;167;01mOSError\u001b[39;00m(msg)\n\u001b[0;32m    299\u001b[0m b \u001b[38;5;241m=\u001b[39m b \u001b[38;5;241m+\u001b[39m s\n\u001b[1;32m--> 300\u001b[0m n, err_code \u001b[38;5;241m=\u001b[39m \u001b[43mdecoder\u001b[49m\u001b[38;5;241;43m.\u001b[39;49m\u001b[43mdecode\u001b[49m\u001b[43m(\u001b[49m\u001b[43mb\u001b[49m\u001b[43m)\u001b[49m\n\u001b[0;32m    301\u001b[0m \u001b[38;5;28;01mif\u001b[39;00m n \u001b[38;5;241m<\u001b[39m \u001b[38;5;241m0\u001b[39m:\n\u001b[0;32m    302\u001b[0m     \u001b[38;5;28;01mbreak\u001b[39;00m\n",
      "\u001b[1;31mKeyboardInterrupt\u001b[0m: "
     ]
    }
   ],
   "source": [
    "import numpy as np \n",
    "\n",
    "def normalize_image(image):\n",
    "    # Mengubah gambar ke array NumPy\n",
    "    img_array = np.array(image).astype('float32')\n",
    "    # Normalisasi piksel ke rentang 0 hingga 1\n",
    "    normalized_img = img_array / 255.0\n",
    "    return normalized_img\n",
    "\n",
    "# Iterasi melalui semua direktori\n",
    "for directory in directories:\n",
    "    for filename in os.listdir(directory):\n",
    "        if filename.endswith(('.png', '.jpg', '.jpeg')):\n",
    "            img_path = os.path.join(directory, filename)\n",
    "            img = Image.open(img_path)\n",
    "            \n",
    "            # Normalisasi gambar\n",
    "            normalized_img = normalize_image(img)"
   ]
  },
  {
   "cell_type": "markdown",
   "metadata": {},
   "source": [
    "### Augmentasi Data"
   ]
  },
  {
   "cell_type": "markdown",
   "metadata": {},
   "source": [
    "Menyeimbangkan jumlah data per kelas menjadi 2000 data per kelas "
   ]
  },
  {
   "cell_type": "code",
   "execution_count": null,
   "metadata": {},
   "outputs": [
    {
     "name": "stdout",
     "output_type": "stream",
     "text": [
      "Kelas 'bkl' memiliki 1099 gambar. Melakukan augmentasi tambahan.\n",
      "Kelas 'df' memiliki 115 gambar. Melakukan augmentasi tambahan.\n",
      "Kelas 'mel' memiliki 1113 gambar. Melakukan augmentasi tambahan.\n",
      "Kelas 'vasc' memiliki 142 gambar. Melakukan augmentasi tambahan.\n",
      "Kelas 'bcc' memiliki 514 gambar. Melakukan augmentasi tambahan.\n",
      "Kelas 'akiec' memiliki 327 gambar. Melakukan augmentasi tambahan.\n",
      "Proses sampling selesai. Dataset dengan 2000 gambar per kelas disimpan di 'final_dataset.csv'.\n",
      "Sinkronisasi folder Augmented dengan final_dataset.csv...\n",
      "Folder Augmented telah disinkronkan. Berisi 14000 gambar yang sesuai dengan final_dataset.csv.\n"
     ]
    }
   ],
   "source": [
    "import os\n",
    "import pandas as pd\n",
    "from PIL import Image, ImageOps\n",
    "import random\n",
    "import shutil\n",
    "\n",
    "# Path ke file CSV yang berisi nama file gambar dan label\n",
    "labels_csv = 'HAM10000_metadata.csv'\n",
    "\n",
    "# Folder tempat gambar-gambar berada\n",
    "image_folders = [\n",
    "    os.path.join(\"C:/SEMESTER 5/BIGDATA/bigdata/Klasifikasi GNB/HAM10000_images_part_1\"),\n",
    "    os.path.join(\"C:/SEMESTER 5/BIGDATA/bigdata/Klasifikasi GNB/HAM10000_images_part_2\")\n",
    "]\n",
    "\n",
    "# Folder tujuan untuk gambar yang sudah di-augmentasi\n",
    "output_folder = 'Augmented'\n",
    "os.makedirs(output_folder, exist_ok=True)\n",
    "\n",
    "# Baca dataset\n",
    "df = pd.read_csv(labels_csv)\n",
    "\n",
    "# Jumlah target per kelas\n",
    "target_sample_size = 2000\n",
    "\n",
    "# Fungsi untuk menyalin gambar asli ke folder output\n",
    "def copy_original_images(image_id, output_dir):\n",
    "    for folder in image_folders:\n",
    "        src_path = os.path.join(folder, image_id + '.jpg')\n",
    "        if os.path.isfile(src_path):\n",
    "            dest_path = os.path.join(output_dir, image_id + '.jpg')\n",
    "            if not os.path.isfile(dest_path):  # Salin hanya jika belum ada\n",
    "                shutil.copy(src_path, dest_path)\n",
    "            return True\n",
    "    return False\n",
    "\n",
    "# Fungsi untuk augmentasi gambar\n",
    "def augment_image(image_path, output_dir, image_id, augment_count):\n",
    "    image = Image.open(image_path)\n",
    "    augmented_images = []\n",
    "    \n",
    "    for i in range(augment_count):\n",
    "        # Pilih transformasi augmentasi secara acak\n",
    "        transform = random.choice(['flip', 'rotate', 'mirror', 'color'])\n",
    "        \n",
    "        if transform == 'flip':\n",
    "            augmented = image.transpose(Image.FLIP_LEFT_RIGHT)\n",
    "        elif transform == 'rotate':\n",
    "            angle = random.randint(-30, 30)\n",
    "            augmented = image.rotate(angle)\n",
    "        elif transform == 'mirror':\n",
    "            augmented = ImageOps.mirror(image)\n",
    "        elif transform == 'color':\n",
    "            augmented = ImageOps.autocontrast(image)\n",
    "        \n",
    "        # Simpan augmented image\n",
    "        augmented_filename = f\"{image_id}_aug_{i}.jpg\"\n",
    "        augmented.save(os.path.join(output_dir, augmented_filename))\n",
    "        augmented_images.append(augmented_filename)\n",
    "    \n",
    "    return augmented_images\n",
    "\n",
    "# Augmentasi dan sampling per kelas\n",
    "final_data = []\n",
    "for class_name in df['dx'].unique():\n",
    "    class_images = df[df['dx'] == class_name]['image_id'].tolist()\n",
    "    \n",
    "    # Salin gambar asli ke folder output\n",
    "    for img_id in class_images:\n",
    "        copy_original_images(img_id, output_folder)\n",
    "    \n",
    "    # Kumpulkan semua gambar dalam kelas ini\n",
    "    available_images = [img for img in os.listdir(output_folder) if img.startswith(tuple(class_images))]\n",
    "    current_count = len(available_images)\n",
    "    \n",
    "    # Jika kurang, lakukan augmentasi\n",
    "    if current_count < target_sample_size:\n",
    "        print(f\"Kelas '{class_name}' memiliki {current_count} gambar. Melakukan augmentasi tambahan.\")\n",
    "        augment_count = target_sample_size - current_count\n",
    "        for img_id in class_images:\n",
    "            src_path = os.path.join(output_folder, img_id + '.jpg')\n",
    "            if os.path.isfile(src_path):\n",
    "                augmented_images = augment_image(src_path, output_folder, img_id, augment_count)\n",
    "                available_images.extend(augmented_images)\n",
    "                augment_count -= len(augmented_images)\n",
    "                if augment_count <= 0:\n",
    "                    break\n",
    "    \n",
    "    # Jika lebih dari target, lakukan sampling\n",
    "    sampled_images = random.sample(available_images, target_sample_size)\n",
    "    \n",
    "    # Simpan data ke final_data\n",
    "    for img_file in sampled_images:\n",
    "        img_id = os.path.splitext(img_file)[0]\n",
    "        final_data.append({'image_id': img_id, 'dx': class_name})\n",
    "\n",
    "# Simpan hasil ke CSV\n",
    "final_df = pd.DataFrame(final_data)\n",
    "output_csv = 'final_dataset.csv'\n",
    "final_df.to_csv(output_csv, index=False)\n",
    "\n",
    "print(\"Proses sampling selesai. Dataset dengan 2000 gambar per kelas disimpan di 'final_dataset.csv'.\")\n",
    "\n",
    "# Sinkronisasi folder Augmented dengan file final_dataset.csv\n",
    "print(\"Sinkronisasi folder Augmented dengan final_dataset.csv...\")\n",
    "valid_images = set(final_df['image_id'] + '.jpg')\n",
    "\n",
    "# Hapus gambar yang tidak ada di final_dataset.csv\n",
    "for img_file in os.listdir(output_folder):\n",
    "    if img_file not in valid_images:\n",
    "        os.remove(os.path.join(output_folder, img_file))\n",
    "\n",
    "print(f\"Folder Augmented telah disinkronkan. Berisi {len(valid_images)} gambar yang sesuai dengan final_dataset.csv.\")\n"
   ]
  },
  {
   "cell_type": "markdown",
   "metadata": {},
   "source": [
    "### Menghitung Data Setelah Augmentasi"
   ]
  },
  {
   "cell_type": "code",
   "execution_count": 11,
   "metadata": {},
   "outputs": [
    {
     "name": "stdout",
     "output_type": "stream",
     "text": [
      "Jumlah data setelah augmentasi:\n",
      "dx\n",
      "bkl      2000\n",
      "nv       2000\n",
      "df       2000\n",
      "mel      2000\n",
      "vasc     2000\n",
      "bcc      2000\n",
      "akiec    2000\n",
      "Name: count, dtype: int64\n"
     ]
    }
   ],
   "source": [
    "# Menghitung jumlah data per kelas setelah augmentasi\n",
    "augmented_data_df = pd.DataFrame(final_data)\n",
    "\n",
    "# Menghitung jumlah gambar per kelas setelah augmentasi\n",
    "jumlah_after_augmentation = augmented_data_df['dx'].value_counts()\n",
    "\n",
    "# Menampilkan hasil\n",
    "print(\"Jumlah data setelah augmentasi:\")\n",
    "print(jumlah_after_augmentation)"
   ]
  },
  {
   "cell_type": "markdown",
   "metadata": {},
   "source": [
    "### Ekstraksi Fitur PCA"
   ]
  },
  {
   "cell_type": "code",
   "execution_count": null,
   "metadata": {},
   "outputs": [
    {
     "name": "stdout",
     "output_type": "stream",
     "text": [
      "Jumlah komponen untuk 95% varians: 6\n",
      "Ekstraksi fitur PCA selesai.\n",
      "Hasil PCA disimpan ke pca_features_train.csv dan pca_features_test.csv.\n",
      "Bentuk X_train_pca: (11200, 6)\n",
      "Bentuk X_test_pca: (2800, 6)\n"
     ]
    }
   ],
   "source": [
    "import os\n",
    "import pandas as pd\n",
    "import numpy as np\n",
    "from skimage import io, color\n",
    "from skimage.transform import resize\n",
    "from sklearn.decomposition import PCA\n",
    "from sklearn.model_selection import train_test_split\n",
    "from sklearn.preprocessing import StandardScaler\n",
    "\n",
    "# Folder tempat gambar hasil augmented berada\n",
    "image_folder = 'C:/SEMESTER 5/BIGDATA/bigdata/Klasifikasi GNB/Augmented'\n",
    "\n",
    "# File CSV hasil augmented\n",
    "augmented_csv = 'C:/SEMESTER 5/BIGDATA/bigdata/Klasifikasi GNB/final_dataset.csv'\n",
    "\n",
    "# Membaca data dari CSV\n",
    "augmented_df = pd.read_csv(augmented_csv)\n",
    "\n",
    "# Fungsi untuk preprocessing gambar\n",
    "def process_image(image_path, size=(128, 128)):\n",
    "    image = io.imread(image_path)\n",
    "    hsv_image = color.rgb2hsv(image)  # Konversi ke HSV\n",
    "    resized_image = resize(hsv_image, size, anti_aliasing=True)\n",
    "    return resized_image\n",
    "\n",
    "# Fungsi untuk ekstraksi fitur HSV\n",
    "def extract_hsv_features(image):\n",
    "    h_channel = image[:, :, 0]\n",
    "    s_channel = image[:, :, 1]\n",
    "    v_channel = image[:, :, 2]\n",
    "    \n",
    "    # Hitung statistik dasar untuk setiap channel\n",
    "    h_mean, h_std = h_channel.mean(), h_channel.std()\n",
    "    s_mean, s_std = s_channel.mean(), s_channel.std()\n",
    "    v_mean, v_std = v_channel.mean(), v_channel.std()\n",
    "    \n",
    "    # Gabungkan fitur\n",
    "    features = [h_mean, h_std, s_mean, s_std, v_mean, v_std]\n",
    "    return features\n",
    "\n",
    "# List untuk menyimpan fitur dan label\n",
    "feature_list = []\n",
    "label_list = []\n",
    "image_ids = []\n",
    "\n",
    "# Ekstraksi fitur dari setiap gambar\n",
    "for index, row in augmented_df.iterrows():\n",
    "    img_path = os.path.join(image_folder, row['image_id'] + '.jpg')\n",
    "    \n",
    "    if not os.path.isfile(img_path):\n",
    "        print(f\"File gambar tidak ditemukan: {img_path}\")\n",
    "        continue\n",
    "\n",
    "    try:\n",
    "        # Preprocessing gambar\n",
    "        processed_image = process_image(img_path)\n",
    "\n",
    "        # Ekstraksi fitur\n",
    "        features = extract_hsv_features(processed_image)\n",
    "\n",
    "        # Simpan fitur dan label\n",
    "        feature_list.append(features)\n",
    "        label_list.append(row['dx'])\n",
    "        image_ids.append(row['image_id'])\n",
    "    except Exception as e:\n",
    "        print(f\"Terjadi kesalahan saat memproses {img_path}: {e}\")\n",
    "\n",
    "# Konversi ke array NumPy\n",
    "features = np.array(feature_list)\n",
    "labels = np.array(label_list)\n",
    "\n",
    "# Standardisasi fitur\n",
    "scaler = StandardScaler()\n",
    "features = scaler.fit_transform(features)\n",
    "\n",
    "# Split data\n",
    "X_train, X_test, y_train, y_test, id_train, id_test = train_test_split(\n",
    "    features, labels, image_ids, test_size=0.2, random_state=42\n",
    ")\n",
    "\n",
    "# PCA\n",
    "pca = PCA()\n",
    "X_train_pca = pca.fit_transform(X_train)\n",
    "\n",
    "# Analisis explained variance ratio\n",
    "explained_variance_ratio = np.cumsum(pca.explained_variance_ratio_)\n",
    "optimal_components = np.argmax(explained_variance_ratio >= 0.95) + 1\n",
    "print(f\"Jumlah komponen untuk 95% varians: {optimal_components}\")\n",
    "\n",
    "# Terapkan PCA dengan jumlah komponen optimal\n",
    "pca = PCA(n_components=optimal_components)\n",
    "X_train_pca = pca.fit_transform(X_train)\n",
    "X_test_pca = pca.transform(X_test)\n",
    "\n",
    "# Simpan hasil PCA ke DataFrame\n",
    "train_pca_features = pd.DataFrame({\n",
    "    'image_id': id_train,\n",
    "    'dx': y_train,\n",
    "    'pca_features': [x.tolist() for x in X_train_pca]\n",
    "})\n",
    "\n",
    "test_pca_features = pd.DataFrame({\n",
    "    'image_id': id_test,\n",
    "    'dx': y_test,\n",
    "    'pca_features': [x.tolist() for x in X_test_pca]\n",
    "})\n",
    "\n",
    "# Simpan ke CSV\n",
    "train_pca_output_csv = 'pca_features_train.csv'\n",
    "test_pca_output_csv = 'pca_features_test.csv'\n",
    "\n",
    "train_pca_features.to_csv(train_pca_output_csv, index=False)\n",
    "test_pca_features.to_csv(test_pca_output_csv, index=False)\n",
    "\n",
    "print(\"Ekstraksi fitur PCA selesai.\")\n",
    "print(f\"Hasil PCA disimpan ke {train_pca_output_csv} dan {test_pca_output_csv}.\")\n",
    "print(f\"Bentuk X_train_pca: {X_train_pca.shape}\")\n",
    "print(f\"Bentuk X_test_pca: {X_test_pca.shape}\")\n"
   ]
  },
  {
   "cell_type": "markdown",
   "metadata": {},
   "source": [
    "mereduksi dimensi dan mempertahankan 6 komponen "
   ]
  },
  {
   "cell_type": "code",
   "execution_count": 13,
   "metadata": {},
   "outputs": [
    {
     "data": {
      "image/png": "[encoded data removed]",
      "text/plain": [
       "<Figure size 800x500 with 1 Axes>"
      ]
     },
     "metadata": {},
     "output_type": "display_data"
    }
   ],
   "source": [
    "plt.figure(figsize=(8, 5))\n",
    "plt.plot(range(1, len(pca.explained_variance_ratio_) + 1), np.cumsum(pca.explained_variance_ratio_), marker='o', linestyle='--', color='b')\n",
    "plt.title(\"Cumulative Explained Variance by PCA Components\", fontsize=14)\n",
    "plt.xlabel(\"Number of Principal Components\", fontsize=12)\n",
    "plt.ylabel(\"Cumulative Explained Variance\", fontsize=12)\n",
    "plt.grid(alpha=0.5)\n",
    "plt.show()\n"
   ]
  },
  {
   "cell_type": "markdown",
   "metadata": {},
   "source": [
    "### Modelling"
   ]
  },
  {
   "cell_type": "markdown",
   "metadata": {},
   "source": [
    "melatih model dan evaluasi model"
   ]
  },
  {
   "cell_type": "code",
   "execution_count": null,
   "metadata": {},
   "outputs": [
    {
     "name": "stdout",
     "output_type": "stream",
     "text": [
      "Akurasi: 73.57 %\n",
      "Laporan Klasifikasi:\n",
      "               precision    recall  f1-score   support\n",
      "\n",
      "       akiec       0.76      0.86      0.81       393\n",
      "         bcc       0.71      0.76      0.73       386\n",
      "         bkl       0.59      0.70      0.64       407\n",
      "          df       0.97      0.90      0.93       402\n",
      "         mel       0.61      0.52      0.56       396\n",
      "          nv       0.64      0.68      0.66       398\n",
      "        vasc       0.94      0.75      0.83       418\n",
      "\n",
      "    accuracy                           0.74      2800\n",
      "   macro avg       0.75      0.74      0.74      2800\n",
      "weighted avg       0.75      0.74      0.74      2800\n",
      "\n"
     ]
    },
    {
     "data": {
      "image/png": "[encoded data removed]",
      "text/plain": [
       "<Figure size 800x600 with 2 Axes>"
      ]
     },
     "metadata": {},
     "output_type": "display_data"
    }
   ],
   "source": [
    "import pandas as pd\n",
    "from sklearn.naive_bayes import GaussianNB\n",
    "from sklearn.preprocessing import LabelEncoder\n",
    "from sklearn.metrics import classification_report, accuracy_score\n",
    "import numpy as np\n",
    "from sklearn.metrics import classification_report, confusion_matrix\n",
    "import streamlit as st\n",
    "\n",
    "# Membaca data latih dan data uji\n",
    "train_df = pd.read_csv('C:/SEMESTER 5/BIGDATA/bigdata/Klasifikasi GNB/pca_features_train.csv')\n",
    "test_df = pd.read_csv('C:/SEMESTER 5/BIGDATA/bigdata/Klasifikasi GNB/pca_features_test.csv')\n",
    "\n",
    "# Encode label target\n",
    "label_encoder = LabelEncoder()\n",
    "train_df['dx_encoded'] = label_encoder.fit_transform(train_df['dx'])\n",
    "test_df['dx_encoded'] = label_encoder.transform(test_df['dx'])\n",
    "\n",
    "# Siapkan fitur dan target untuk data latih\n",
    "X_train = np.vstack(train_df['pca_features'].apply(eval).apply(np.array).values)\n",
    "y_train = train_df['dx_encoded'].values\n",
    "\n",
    "# Siapkan fitur dan target untuk data uji\n",
    "X_test = np.vstack(test_df['pca_features'].apply(eval).apply(np.array).values)\n",
    "y_test = test_df['dx_encoded'].values\n",
    "\n",
    "# Buat dan latih model Gaussian Naive Bayes\n",
    "gnb_model = GaussianNB()\n",
    "gnb_model.fit(X_train, y_train)\n",
    "\n",
    "# Prediksi\n",
    "y_pred = gnb_model.predict(X_test)\n",
    "\n",
    "# Evaluasi model\n",
    "print(f\"Akurasi: {round(accuracy_score(y_test, y_pred) * 100, 2)} %\")\n",
    "print(\"Laporan Klasifikasi:\\n\", classification_report(y_test, y_pred, target_names=label_encoder.classes_))\n",
    "\n",
    "\n",
    "# Menghitung laporan klasifikasi (precision, recall, f1-score)\n",
    "classification_rep = classification_report(y_test, y_pred, target_names=label_encoder.classes_, output_dict=True)\n",
    "\n",
    "# Menghitung confusion matrix\n",
    "conf_matrix = confusion_matrix(y_test, y_pred)\n",
    "\n",
    "# Menampilkan hasil di Jupyter Notebook\n",
    "import matplotlib.pyplot as plt\n",
    "\n",
    "\n",
    "\n",
    "# Tampilkan confusion matrix sebagai heatmap untuk visualisasi\n",
    "plt.figure(figsize=(8,6))\n",
    "import seaborn as sns\n",
    "sns.heatmap(conf_matrix, annot=True, fmt='g', cmap='Blues', xticklabels=label_encoder.classes_, yticklabels=label_encoder.classes_)\n",
    "plt.title(\"Confusion Matrix\")\n",
    "plt.xlabel('Predicted')\n",
    "plt.ylabel('True')\n",
    "plt.show()"
   ]
  }
 ],
 "metadata": {
  "kernelspec": {
   "display_name": "base",
   "language": "python",
   "name": "python3"
  },
  "language_info": {
   "codemirror_mode": {
    "name": "ipython",
    "version": 3
   },
   "file_extension": ".py",
   "mimetype": "text/x-python",
   "name": "python",
   "nbconvert_exporter": "python",
   "pygments_lexer": "ipython3",
   "version": "3.12.5"
  }
 },
 "nbformat": 4,
 "nbformat_minor": 2
}